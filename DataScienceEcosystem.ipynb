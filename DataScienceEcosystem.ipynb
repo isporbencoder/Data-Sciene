{
 "cells": [
  {
   "cell_type": "code",
   "execution_count": null,
   "id": "6689b4de-cc34-47e6-8642-b0305815da1f",
   "metadata": {},
   "outputs": [],
   "source": [
    "#title DataScienceEcosystem.ipynb"
   ]
  },
  {
   "cell_type": "markdown",
   "id": "4f238773-f1e8-4924-bc3b-87ecf72c90ae",
   "metadata": {},
   "source": [
    "#Exercise 2: Create markdown cell with title of the notebook\n",
    "#Create a markdown cell with the title Data Science Tools and Ecosystem using H1 style heading.\n",
    "#Take a screenshot of the markdown cell and name it as 2-title.png (Images can be saved with either the .jpg or .png extension.)"
   ]
  },
  {
   "cell_type": "markdown",
   "id": "3112166a-99eb-40f3-afe1-fc543620a680",
   "metadata": {
    "tags": []
   },
   "source": [
    "# Title of the Notebook\n",
    "Data Science Tools and Ecosystem"
   ]
  },
  {
   "cell_type": "markdown",
   "id": "8f6a1889-2e97-4dff-a69b-19e62295a4b9",
   "metadata": {},
   "source": [
    "#Exercise 3 - Create a markdown cell for an introduction\n",
    "#Write an introductory sentence about the notebook such as the follows:In this notebook, Data Science Tools and Ecosystem are summarized.\n",
    "#Take a screenshot of the markdown cell and name it as 3-intro.png (Images can be saved with either the .jpg or .png extension.)"
   ]
  },
  {
   "cell_type": "markdown",
   "id": "32265aef-4991-4df5-9993-bea9f4fbfa28",
   "metadata": {},
   "source": [
    "In this notebook, Data Science Tools and Ecosystem are summarized"
   ]
  },
  {
   "cell_type": "code",
   "execution_count": null,
   "id": "d46587a9-46be-487f-a10f-dc7f116be7b0",
   "metadata": {},
   "outputs": [],
   "source": [
    "#Exercise 4 - Create a markdown cell to list data science languages\n",
    "#Start the cell with an overview line such as:\n",
    "#Some of the popular languages that Data Scientists use are:\n",
    "#Then create an ordered list (i.e. numbered) listing 3 (or more) commonly used languages for data science.\n",
    "#Take a screenshot of the markdown cell and name it as 4-dslanguages.png (Images can be saved with either the .jpg or .png extension.)"
   ]
  },
  {
   "cell_type": "markdown",
   "id": "7ff55ad6-4207-4dfa-ac72-b18a1880ee7f",
   "metadata": {
    "tags": []
   },
   "source": [
    "Popular languages Data Scientists use are:\n",
    "1. Phyton\n",
    "2. R\n",
    "3. JavaScript\n",
    "4. SQL"
   ]
  },
  {
   "cell_type": "code",
   "execution_count": null,
   "id": "d27fe232-7103-4144-9205-7a0db2d79892",
   "metadata": {},
   "outputs": [],
   "source": [
    "#Exercise 5 - Create a markdown cell to list data science libraries\n",
    "#Add an overview line to the cell like:\n",
    "#Some of the commonly used libraries used by Data Scientists include:\n",
    "#Below this line add an ordered list listing 3 (or more) commonly used libraries in data science.\n",
    "#Take a screenshot of the markdown cell and name it as 5-dslibraries.png (Images can be saved with either the .jpg or .png extension.)"
   ]
  },
  {
   "cell_type": "markdown",
   "id": "209abba5-e204-4c44-8777-78f5762c750a",
   "metadata": {},
   "source": [
    "Some of the commonly used libraries used by Data Scientists include:\n",
    "1. Matplotlib\n",
    "2. Pandas\n",
    "3. Seaborn\n",
    "4. Folium\n",
    "5. Plotly\n",
    "6. Pywafle"
   ]
  },
  {
   "cell_type": "markdown",
   "id": "40eb0cf2-7200-44ed-9837-a2f65404e96a",
   "metadata": {},
   "source": [
    "#Exercise 6 - Create a markdown cell with a table of Data Science tools\n",
    "#Create a single column table in this cell with the first row containing the header Data Science Tools. \n",
    "#The subsequent three rows in the table should indicate three development environment open source tools used in data science.\n",
    "#Take a screenshot of the markdown cell and name it as 6-dstools.png (Images can be saved with either the .jpg or .png extension.)\n",
    "#Hint: Refer to Lab: Using Markdowns in Jupyter Notebooks to create a table.\n"
   ]
  },
  {
   "cell_type": "markdown",
   "id": "cae81fce-cebc-4205-84cc-ba3af6023099",
   "metadata": {
    "tags": []
   },
   "source": [
    "|  Data Science Tools |\n",
    "|---------------------|\n",
    "|Relational Databases |\n",
    "|NoSQL Databases      |\n",
    "|Big Data             |\n"
   ]
  },
  {
   "cell_type": "markdown",
   "id": "08c05478-c378-4bcb-826c-072f8e2ddfbb",
   "metadata": {},
   "source": [
    "Exercise 7 - Create a markdown cell introducing arithmetic expression examples\n",
    "Add a line in this cell with H3 style heading with text like:\n",
    "Below are a few examples of evaluating arithmetic expressions in Python.\n",
    "Take a screenshot of the markdown cell and name it as 7-introarithmetic.png (Images can be saved with either the .jpg or .png extension.)"
   ]
  },
  {
   "cell_type": "code",
   "execution_count": null,
   "id": "4b82e401-e140-4df6-8025-dd6d7e9a5d8c",
   "metadata": {
    "tags": []
   },
   "outputs": [],
   "source": [
    "### Below are a few examples of evaluating arithmetic expressions in Python\n"
   ]
  },
  {
   "cell_type": "code",
   "execution_count": 26,
   "id": "a4b6cb9c-bcbb-45e9-aa18-8d610e18f8e4",
   "metadata": {
    "tags": []
   },
   "outputs": [
    {
     "data": {
      "text/plain": [
       "145"
      ]
     },
     "execution_count": 26,
     "metadata": {},
     "output_type": "execute_result"
    }
   ],
   "source": [
    "56+89"
   ]
  },
  {
   "cell_type": "code",
   "execution_count": 18,
   "id": "6a475af1-db92-4381-a386-896208024bd0",
   "metadata": {
    "tags": []
   },
   "outputs": [
    {
     "data": {
      "text/plain": [
       "20"
      ]
     },
     "execution_count": 18,
     "metadata": {},
     "output_type": "execute_result"
    }
   ],
   "source": [
    "60-40"
   ]
  },
  {
   "cell_type": "code",
   "execution_count": 22,
   "id": "c329e0ab-c887-49b8-8f08-bcf3a0ad0082",
   "metadata": {
    "tags": []
   },
   "outputs": [
    {
     "data": {
      "text/plain": [
       "100.0"
      ]
     },
     "execution_count": 22,
     "metadata": {},
     "output_type": "execute_result"
    }
   ],
   "source": [
    "400/4"
   ]
  },
  {
   "cell_type": "code",
   "execution_count": 24,
   "id": "b42253cb-e184-4dfb-8a70-058fe535e596",
   "metadata": {
    "tags": []
   },
   "outputs": [
    {
     "data": {
      "text/plain": [
       "135"
      ]
     },
     "execution_count": 24,
     "metadata": {},
     "output_type": "execute_result"
    }
   ],
   "source": [
    "45*3"
   ]
  },
  {
   "cell_type": "code",
   "execution_count": null,
   "id": "a28eabdb-96e4-421d-b9cf-d4af77c4a737",
   "metadata": {},
   "outputs": [],
   "source": [
    "Exercise 8 - Create a code cell to multiply and add numbers\n",
    "\n",
    "In this code cell evaluate the expression (3*4)+5.\n",
    "Insert a comment line before the expression to explain the operation e.g.  This a simple arithmetic expression to mutiply then add integers.\n",
    "Then execute the cell to ensure the expression returns the expected output of 17.\n",
    "Take a screenshot of the code cell with output and name it as 8-multiplyandaddintegers.png (Images can be saved with either the .jpg or .png extension.)\n"
   ]
  },
  {
   "cell_type": "markdown",
   "id": "c678f175-4b17-4cf2-8ca2-1329ede35378",
   "metadata": {
    "tags": []
   },
   "source": [
    "### this is a simple arithmetic expression to multiply then add integers\n",
    "(3*4)+5"
   ]
  },
  {
   "cell_type": "code",
   "execution_count": null,
   "id": "d632b370-3eb1-4f23-b67a-41ccbe689c60",
   "metadata": {},
   "outputs": [],
   "source": [
    "#Exercise 9 - Create a code cell to convert minutes to hours\n",
    "In this code cell write an expression that converts 200 minutes into hours.\n",
    "Insert a comment line before the expression to explain the operation e.g.  This will convert 200 minutes to hours by diving by 60.\n",
    "Run the cell to evaluate the expression.\n",
    "Take a screenshot of the code cell with output and name it as 9-hourstominutes.png (Images can be saved with either the .jpg or .png extension.)\n"
   ]
  },
  {
   "cell_type": "code",
   "execution_count": 86,
   "id": "4b8c73ad-3911-46dd-a43c-89149288c599",
   "metadata": {
    "tags": []
   },
   "outputs": [
    {
     "data": {
      "text/plain": [
       "3.3333333333333335"
      ]
     },
     "execution_count": 86,
     "metadata": {},
     "output_type": "execute_result"
    }
   ],
   "source": [
    "#### this will convert 200 minutes to hours by dividing by 60\n",
    "200/60"
   ]
  },
  {
   "cell_type": "markdown",
   "id": "f67541d0-8419-4f2f-844d-42dcafd57483",
   "metadata": {},
   "source": [
    "Exercise 10 - Insert a markdown cell to list Objectives\n",
    "Below the introduction cell created in Exercise 3, insert a new markdown cell to list the objectives that \n",
    "this notebook covered \n",
    "(i.e. some of the key takeaways from the course). In this new cell start with an introductory line titled: \n",
    " Objectives: in bold font. Then using an unordered list (bullets) indicate 3 to 5 items covered in this notebook, \n",
    "    such as List popular languages for Data Science.\n",
    "Take a screenshot of the markdown cell and name it as 10-objectives.png (Images can be saved with either the .jpg or .png extension.)\n"
   ]
  },
  {
   "cell_type": "markdown",
   "id": "83ad9053-dfe7-47e1-a1e1-ff7507537e53",
   "metadata": {
    "tags": []
   },
   "source": [
    "Title:\"Data Science Tools and Ecosystem\"\n",
    "\n",
    "Objectives: \n",
    "\n",
    "-Familiarize with Data Science Task Categories:\n",
    "*Data Management* *Data Integration and Transformation* *Data Visualization* *Modelling*\n",
    "\n",
    "-Familiarize with Data science Ecosystem:\n",
    "*open source* *commercial options* *traditional desktop applications* *server-based* *cloud-based services*  \n",
    "\n",
    "-Familiarize with Data Management Tools\n",
    "*Relational Databases* *NoSQL Databases* *Big Data platforms*\n",
    "\n",
    "-Familiarize with Data Integration and Transformation Tools\n",
    "*Apache Airflow* *Apache Kafka* \n",
    "\n",
    "-Familiarize with Data Visualization Tools\n",
    "*Cognos Analytics* *Tableau and PowerBI*   \n",
    "\n",
    "-Familiarize Code Asset Management Tools: \n",
    "*Git* *GitHub*\n",
    "\n",
    "-Familiarize with Development Environments \n",
    "*Jupyter Notebooks* *RStudio* \n",
    "\n",
    "-Familiarize with Popular languages Data Scientists used\n",
    "*Phyton* *R8 *JavaScript* *SQL*\n"
   ]
  },
  {
   "cell_type": "markdown",
   "id": "77a6e8f1-cef1-4760-9112-c933eb05ec57",
   "metadata": {},
   "source": [
    "Exercise 11 - Create a markdown cell to indicate the Author's name\n",
    "In this markdown cell markdown cell include the following text Author in H2 style heading. Include your name as regular text \n",
    "below the word Author.\n",
    "Take a screenshot of the markdown cell and name it as 11-authordetails.png (Images can be saved with either the .jpg or .png extension.)\n",
    "Note: Save and download the notebook.\n"
   ]
  },
  {
   "cell_type": "markdown",
   "id": "690aa853-b3f3-4895-9bbf-4578c0992716",
   "metadata": {},
   "source": [
    "## Author \n",
    "\n",
    "Idalmis Santana Porben"
   ]
  },
  {
   "cell_type": "code",
   "execution_count": null,
   "id": "f9002007-def0-4309-9bc9-1346df84151b",
   "metadata": {},
   "outputs": [],
   "source": [
    "Exercise 12 - Share your notebook through GitHub\n",
    "\n",
    "Upload your notebook to a public respository on GitHub.\n",
    "\n",
    "Note : Please keep the GitHub repo link of the notebook handy.\n",
    "You will need to submit this link as a part of the assignment evaluation.\n",
    "\n",
    "Hint: Refer to Lab: Working with files in Jupyter Notebooks to download the notebook from SN Labs.\n",
    "\n",
    "Exercise 13 -Take a screenshot of the first page of the notebook and save it as 1-notebook.png\n",
    "(Images can be saved with either the .jpg or .png extension.)\n",
    "\n",
    "Refer to Hands-on Lab: Getting Started with GitHub to upload the downloaded notebook to GitHub.\n",
    "\n"
   ]
  }
 ],
 "metadata": {
  "kernelspec": {
   "display_name": "Python 3 (ipykernel)",
   "language": "python",
   "name": "python3"
  },
  "language_info": {
   "codemirror_mode": {
    "name": "ipython",
    "version": 3
   },
   "file_extension": ".py",
   "mimetype": "text/x-python",
   "name": "python",
   "nbconvert_exporter": "python",
   "pygments_lexer": "ipython3",
   "version": "3.11.7"
  }
 },
 "nbformat": 4,
 "nbformat_minor": 5
}
